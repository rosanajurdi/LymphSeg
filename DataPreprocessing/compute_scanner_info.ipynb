{
 "cells": [
  {
   "cell_type": "code",
   "execution_count": 63,
   "id": "7f0ac25b",
   "metadata": {},
   "outputs": [],
   "source": [
    "import os\n",
    "import gzip\n",
    "from pathlib import Path\n",
    "from typing import List\n",
    "import json\n",
    "import pandas as pd"
   ]
  },
  {
   "cell_type": "code",
   "execution_count": 82,
   "id": "2571ae4a",
   "metadata": {},
   "outputs": [
    {
     "ename": "UnicodeDecodeError",
     "evalue": "'utf-8' codec can't decode byte 0x8b in position 1: invalid start byte",
     "output_type": "error",
     "traceback": [
      "\u001b[0;31m---------------------------------------------------------------------------\u001b[0m",
      "\u001b[0;31mUnicodeDecodeError\u001b[0m                        Traceback (most recent call last)",
      "Cell \u001b[0;32mIn[82], line 2\u001b[0m\n\u001b[1;32m      1\u001b[0m \u001b[38;5;28;01mwith\u001b[39;00m \u001b[38;5;28mopen\u001b[39m(\u001b[38;5;124m'\u001b[39m\u001b[38;5;124m/Users/rosana.eljurdi/Datasets/Lymphoma/sub-1076530/ses-M000/anat/sub-1076530_ses-M000_T1w.json\u001b[39m\u001b[38;5;124m'\u001b[39m, \u001b[38;5;124m'\u001b[39m\u001b[38;5;124mr\u001b[39m\u001b[38;5;124m'\u001b[39m) \u001b[38;5;28;01mas\u001b[39;00m f:\n\u001b[0;32m----> 2\u001b[0m     contents \u001b[38;5;241m=\u001b[39m \u001b[43mf\u001b[49m\u001b[38;5;241;43m.\u001b[39;49m\u001b[43mread\u001b[49m\u001b[43m(\u001b[49m\u001b[43m)\u001b[49m\n\u001b[1;32m      3\u001b[0m \u001b[38;5;28mprint\u001b[39m(\u001b[38;5;28meval\u001b[39m(contents)[\u001b[38;5;124m'\u001b[39m\u001b[38;5;124mModality\u001b[39m\u001b[38;5;124m'\u001b[39m])\n",
      "File \u001b[0;32m~/opt/anaconda3/envs/LymphSeg/lib/python3.10/codecs.py:322\u001b[0m, in \u001b[0;36mBufferedIncrementalDecoder.decode\u001b[0;34m(self, input, final)\u001b[0m\n\u001b[1;32m    319\u001b[0m \u001b[38;5;28;01mdef\u001b[39;00m \u001b[38;5;21mdecode\u001b[39m(\u001b[38;5;28mself\u001b[39m, \u001b[38;5;28minput\u001b[39m, final\u001b[38;5;241m=\u001b[39m\u001b[38;5;28;01mFalse\u001b[39;00m):\n\u001b[1;32m    320\u001b[0m     \u001b[38;5;66;03m# decode input (taking the buffer into account)\u001b[39;00m\n\u001b[1;32m    321\u001b[0m     data \u001b[38;5;241m=\u001b[39m \u001b[38;5;28mself\u001b[39m\u001b[38;5;241m.\u001b[39mbuffer \u001b[38;5;241m+\u001b[39m \u001b[38;5;28minput\u001b[39m\n\u001b[0;32m--> 322\u001b[0m     (result, consumed) \u001b[38;5;241m=\u001b[39m \u001b[38;5;28;43mself\u001b[39;49m\u001b[38;5;241;43m.\u001b[39;49m\u001b[43m_buffer_decode\u001b[49m\u001b[43m(\u001b[49m\u001b[43mdata\u001b[49m\u001b[43m,\u001b[49m\u001b[43m \u001b[49m\u001b[38;5;28;43mself\u001b[39;49m\u001b[38;5;241;43m.\u001b[39;49m\u001b[43merrors\u001b[49m\u001b[43m,\u001b[49m\u001b[43m \u001b[49m\u001b[43mfinal\u001b[49m\u001b[43m)\u001b[49m\n\u001b[1;32m    323\u001b[0m     \u001b[38;5;66;03m# keep undecoded input until the next call\u001b[39;00m\n\u001b[1;32m    324\u001b[0m     \u001b[38;5;28mself\u001b[39m\u001b[38;5;241m.\u001b[39mbuffer \u001b[38;5;241m=\u001b[39m data[consumed:]\n",
      "\u001b[0;31mUnicodeDecodeError\u001b[0m: 'utf-8' codec can't decode byte 0x8b in position 1: invalid start byte"
     ]
    }
   ],
   "source": [
    "with open('/Users/rosana.eljurdi/Datasets/Lymphoma/sub-1076530/ses-M000/anat/sub-1076530_ses-M000_T1w.json', 'r') as f:\n",
    "    contents = f.read()\n",
    "print(eval(contents)['Modality'])"
   ]
  },
  {
   "cell_type": "code",
   "execution_count": 83,
   "id": "67167a94",
   "metadata": {},
   "outputs": [
    {
     "name": "stdout",
     "output_type": "stream",
     "text": [
      "/Users/rosana.eljurdi/Datasets/Lymphoma/sub-1076530/ses-M000/anat/sub-1076530_ses-M000_T1w.json\n",
      "/Users/rosana.eljurdi/Datasets/Lymphoma/sub-1078893/ses-M000/anat/sub-1078893_ses-M000_T1w.json\n",
      "/Users/rosana.eljurdi/Datasets/Lymphoma/sub-1077646/ses-M000/anat/sub-1077646_ses-M000_T1w.json\n",
      "/Users/rosana.eljurdi/Datasets/Lymphoma/sub-1076353/ses-M000/anat/sub-1076353_ses-M000_T1w.json\n",
      "/Users/rosana.eljurdi/Datasets/Lymphoma/sub-1076186/ses-M000/anat/sub-1076186_ses-M000_T1w.json\n",
      "/Users/rosana.eljurdi/Datasets/Lymphoma/sub-1075235/ses-M000/anat/sub-1075235_ses-M000_T1w.json\n",
      "/Users/rosana.eljurdi/Datasets/Lymphoma/sub-1075296/ses-M000/anat/sub-1075296_ses-M000_T1w.json\n",
      "/Users/rosana.eljurdi/Datasets/Lymphoma/sub-1076242/ses-M000/anat/sub-1076242_ses-M000_T1w.json\n",
      "/Users/rosana.eljurdi/Datasets/Lymphoma/sub-1079771/ses-M000/anat/sub-1079771_ses-M000_T1w.json\n",
      "/Users/rosana.eljurdi/Datasets/Lymphoma/sub-1076020/ses-M000/anat/sub-1076020_ses-M000_T1w.json\n",
      "/Users/rosana.eljurdi/Datasets/Lymphoma/sub-1075729/ses-M000/anat/sub-1075729_ses-M000_T1w.json\n",
      "/Users/rosana.eljurdi/Datasets/Lymphoma/sub-1077163/ses-M000/anat/sub-1077163_ses-M000_T1w.json\n",
      "/Users/rosana.eljurdi/Datasets/Lymphoma/sub-1076378/ses-M000/anat/sub-1076378_ses-M000_T1w.json\n",
      "/Users/rosana.eljurdi/Datasets/Lymphoma/sub-1076146/ses-M000/anat/sub-1076146_ses-M000_T1w.json\n",
      "/Users/rosana.eljurdi/Datasets/Lymphoma/sub-1079104/ses-M000/anat/sub-1079104_ses-M000_T1w.json\n",
      "/Users/rosana.eljurdi/Datasets/Lymphoma/sub-1076968/ses-M000/anat/sub-1076968_ses-M000_T1w.json\n",
      "/Users/rosana.eljurdi/Datasets/Lymphoma/sub-1079879/ses-M000/anat/sub-1079879_ses-M000_T1w.json\n",
      "/Users/rosana.eljurdi/Datasets/Lymphoma/sub-1078463/ses-M000/anat/sub-1078463_ses-M000_T1w.json\n",
      "/Users/rosana.eljurdi/Datasets/Lymphoma/sub-1075635/ses-M000/anat/sub-1075635_ses-M000_T1w.json\n",
      "/Users/rosana.eljurdi/Datasets/Lymphoma/sub-1078847/ses-M000/anat/sub-1078847_ses-M000_T1w.json\n",
      "/Users/rosana.eljurdi/Datasets/Lymphoma/sub-1078635/ses-M000/anat/sub-1078635_ses-M000_T1w.json\n",
      "/Users/rosana.eljurdi/Datasets/Lymphoma/sub-1077292/ses-M000/anat/sub-1077292_ses-M000_T1w.json\n",
      "/Users/rosana.eljurdi/Datasets/Lymphoma/sub-1077055/ses-M000/anat/sub-1077055_ses-M000_T1w.json\n",
      "/Users/rosana.eljurdi/Datasets/Lymphoma/sub-1078058/ses-M000/anat/sub-1078058_ses-M000_T1w.json\n",
      "/Users/rosana.eljurdi/Datasets/Lymphoma/sub-1078934/ses-M000/anat/sub-1078934_ses-M000_T1w.json\n",
      "/Users/rosana.eljurdi/Datasets/Lymphoma/sub-1076778/ses-M000/anat/sub-1076778_ses-M000_T1w.json\n",
      "/Users/rosana.eljurdi/Datasets/Lymphoma/sub-1076802/ses-M000/anat/sub-1076802_ses-M000_T1w.json\n",
      "/Users/rosana.eljurdi/Datasets/Lymphoma/sub-1076368/ses-M000/anat/sub-1076368_ses-M000_T1w.json\n",
      "/Users/rosana.eljurdi/Datasets/Lymphoma/sub-1078968/ses-M000/anat/sub-1078968_ses-M000_T1w.json\n",
      "/Users/rosana.eljurdi/Datasets/Lymphoma/sub-1077452/ses-M000/anat/sub-1077452_ses-M000_T1w.json\n",
      "/Users/rosana.eljurdi/Datasets/Lymphoma/sub-1076041/ses-M000/anat/sub-1076041_ses-M000_T1w.json\n",
      "/Users/rosana.eljurdi/Datasets/Lymphoma/sub-1075196/ses-M000/anat/sub-1075196_ses-M000_T1w.json\n",
      "/Users/rosana.eljurdi/Datasets/Lymphoma/sub-1076064/ses-M000/anat/sub-1076064_ses-M000_T1w.json\n",
      "/Users/rosana.eljurdi/Datasets/Lymphoma/sub-1075435/ses-M000/anat/sub-1075435_ses-M000_T1w.json\n",
      "/Users/rosana.eljurdi/Datasets/Lymphoma/sub-1076319/ses-M000/anat/sub-1076319_ses-M000_T1w.json\n",
      "/Users/rosana.eljurdi/Datasets/Lymphoma/sub-1077136/ses-M000/anat/sub-1077136_ses-M000_T1w.json\n",
      "/Users/rosana.eljurdi/Datasets/Lymphoma/sub-1077792/ses-M000/anat/sub-1077792_ses-M000_T1w.json\n",
      "/Users/rosana.eljurdi/Datasets/Lymphoma/sub-1075346/ses-M000/anat/sub-1075346_ses-M000_T1w.json\n",
      "/Users/rosana.eljurdi/Datasets/Lymphoma/sub-1077852/ses-M000/anat/sub-1077852_ses-M000_T1w.json\n",
      "/Users/rosana.eljurdi/Datasets/Lymphoma/sub-1079524/ses-M000/anat/sub-1079524_ses-M000_T1w.json\n",
      "/Users/rosana.eljurdi/Datasets/Lymphoma/sub-1078624/ses-M000/anat/sub-1078624_ses-M000_T1w.json\n",
      "/Users/rosana.eljurdi/Datasets/Lymphoma/sub-1075883/ses-M000/anat/sub-1075883_ses-M000_T1w.json\n",
      "/Users/rosana.eljurdi/Datasets/Lymphoma/sub-1077857/ses-M000/anat/sub-1077857_ses-M000_T1w.json\n",
      "/Users/rosana.eljurdi/Datasets/Lymphoma/sub-1079452/ses-M000/anat/sub-1079452_ses-M000_T1w.json\n",
      "/Users/rosana.eljurdi/Datasets/Lymphoma/sub-1076994/ses-M000/anat/sub-1076994_ses-M000_T1w.json\n",
      "/Users/rosana.eljurdi/Datasets/Lymphoma/sub-1078777/ses-M000/anat/sub-1078777_ses-M000_T1w.json\n",
      "/Users/rosana.eljurdi/Datasets/Lymphoma/sub-1079579/ses-M000/anat/sub-1079579_ses-M000_T1w.json\n",
      "/Users/rosana.eljurdi/Datasets/Lymphoma/sub-1079685/ses-M000/anat/sub-1079685_ses-M000_T1w.json\n",
      "/Users/rosana.eljurdi/Datasets/Lymphoma/sub-1078418/ses-M000/anat/sub-1078418_ses-M000_T1w.json\n",
      "/Users/rosana.eljurdi/Datasets/Lymphoma/sub-1078665/ses-M000/anat/sub-1078665_ses-M000_T1w.json\n",
      "/Users/rosana.eljurdi/Datasets/Lymphoma/sub-1079144/ses-M000/anat/sub-1079144_ses-M000_T1w.json\n",
      "/Users/rosana.eljurdi/Datasets/Lymphoma/sub-1075328/ses-M000/anat/sub-1075328_ses-M000_T1w.json\n",
      "/Users/rosana.eljurdi/Datasets/Lymphoma/sub-1076513/ses-M000/anat/sub-1076513_ses-M000_T1w.json\n",
      "/Users/rosana.eljurdi/Datasets/Lymphoma/sub-1075730/ses-M000/anat/sub-1075730_ses-M000_T1w.json\n",
      "/Users/rosana.eljurdi/Datasets/Lymphoma/sub-1078918/ses-M000/anat/sub-1078918_ses-M000_T1w.json\n",
      "/Users/rosana.eljurdi/Datasets/Lymphoma/sub-1075391/ses-M000/anat/sub-1075391_ses-M000_T1w.json\n"
     ]
    },
    {
     "data": {
      "text/plain": [
       "'js_file = eval(f.read())\\n   \\n    MFS.append(js_file[\\'MagneticFieldStrength\\'])\\n    Manufacturer.append(js_file[\\'Manufacturer\\'])\\n    Hospitals.append(js_file[\"InstitutionName\"])\\n    Hospitals.append(js_file[\"InstitutionAddress\"])'"
      ]
     },
     "execution_count": 83,
     "metadata": {},
     "output_type": "execute_result"
    }
   ],
   "source": [
    "path = Path('/Users/rosana.eljurdi/Datasets/Lymphoma')\n",
    "\n",
    "\n",
    "json_zipped_path : List[Path] = list(path.rglob('*json.gz'))\n",
    "json_paths: List[Path] = list(set(path.rglob('*json')) - set(json_zipped_path))\n",
    "hospitals = []\n",
    "Manufacturer = []\n",
    "MFS = []\n",
    "Hospitals = []\n",
    "\n",
    "\n",
    "for patient_path in json_paths:\n",
    "    try:\n",
    "        \n",
    "        with open(str(patient_path), 'r') as f:\n",
    "            content = f.read()\n",
    "    except: \n",
    "        print(patient_path)\n",
    "        \n",
    " \n",
    "\n",
    "\n",
    "    \n",
    "\"\"\"js_file = eval(f.read())\n",
    "   \n",
    "    MFS.append(js_file['MagneticFieldStrength'])\n",
    "    Manufacturer.append(js_file['Manufacturer'])\n",
    "    Hospitals.append(js_file[\"InstitutionName\"])\n",
    "    Hospitals.append(js_file[\"InstitutionAddress\"])\"\"\"     \n"
   ]
  },
  {
   "cell_type": "code",
   "execution_count": null,
   "id": "c8f2435d",
   "metadata": {},
   "outputs": [],
   "source": []
  },
  {
   "cell_type": "code",
   "execution_count": 26,
   "id": "bd0d2365",
   "metadata": {},
   "outputs": [],
   "source": []
  },
  {
   "cell_type": "code",
   "execution_count": null,
   "id": "aa902964",
   "metadata": {},
   "outputs": [],
   "source": []
  }
 ],
 "metadata": {
  "kernelspec": {
   "display_name": "Python 3 (ipykernel)",
   "language": "python",
   "name": "python3"
  },
  "language_info": {
   "codemirror_mode": {
    "name": "ipython",
    "version": 3
   },
   "file_extension": ".py",
   "mimetype": "text/x-python",
   "name": "python",
   "nbconvert_exporter": "python",
   "pygments_lexer": "ipython3",
   "version": "3.10.8"
  }
 },
 "nbformat": 4,
 "nbformat_minor": 5
}
