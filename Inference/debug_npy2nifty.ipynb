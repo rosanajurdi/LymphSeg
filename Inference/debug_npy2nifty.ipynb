{
 "cells": [
  {
   "cell_type": "code",
   "execution_count": 7,
   "id": "40308dd4",
   "metadata": {},
   "outputs": [],
   "source": [
    "import os\n",
    "import numpy as np\n",
    "import nibabel as nb\n",
    "import pandas as pd\n",
    "from pathlib import Path\n",
    "from surface_distance import metrics\n",
    "\n",
    "\n",
    "root = \"/Users/rosana.eljurdi/Datasets/LymphSeg_dataset/val\"\n",
    "nifty_path = Path(root, \"input_nifty\")\n",
    "patients  = list(sorted(nifty_path.rglob('sub-*')))\n",
    "\n",
    "pred_nifty = Path(root, 'pred_nifty')\n",
    "pred_nifty.mkdir(parents=True, exist_ok=True)\n",
    "gt_packed_nifty = Path(root, 'packed_gt')\n",
    "gt_packed_nifty.mkdir(parents=True, exist_ok=True)\n",
    "in_packed_nifty = Path(root, 'packed_in')\n",
    "in_packed_nifty.mkdir(parents=True, exist_ok=True)\n",
    "\n",
    "\n",
    "\n"
   ]
  },
  {
   "cell_type": "code",
   "execution_count": 8,
   "id": "0cb66bac",
   "metadata": {},
   "outputs": [
    {
     "name": "stdout",
     "output_type": "stream",
     "text": [
      "(181, 184, 184)\n",
      "sub-1070629.nii 0.8280528715199128 4.123105625617661 1.804112814742961\n",
      "(181, 184, 184)\n",
      "sub-1071101.nii 0.0 170.36725037400822 113.84026527196303\n",
      "(181, 184, 184)\n",
      "sub-1071155.nii 0.6022515734420707 7.3484692283495345 1.768476624286527\n",
      "(181, 184, 184)\n",
      "sub-1071273.nii 0.7779116975386957 7.0710678118654755 1.7388968439924253\n",
      "(181, 184, 184)\n",
      "sub-1071348.nii 0.8697453039276242 108.36050941187015 10.475180941213004\n",
      "(181, 184, 184)\n",
      "sub-1071897.nii 0.0 102.74726273726225 72.61071183604786\n",
      "(181, 184, 184)\n",
      "sub-1072359.nii 0.6225059856344772 142.1442928857856 26.170553821344072\n",
      "(181, 184, 184)\n",
      "sub-1072518.nii 0.6183775371247001 79.38513714795737 10.79947398979522\n",
      "(181, 184, 184)\n",
      "sub-1075391.nii 0.7652957038510878 58.39520528262573 8.730297256663716\n",
      "(181, 184, 184)\n",
      "sub-1075729.nii 0.18519140362659503 34.19064199455752 7.397507700828287\n",
      "(181, 184, 184)\n"
     ]
    },
    {
     "name": "stderr",
     "output_type": "stream",
     "text": [
      "/Users/rosana.eljurdi/opt/anaconda3/envs/LymphSeg/lib/python3.10/site-packages/surface_distance/metrics.py:319: RuntimeWarning: invalid value encountered in double_scalars\n",
      "  np.sum(distances_pred_to_gt * surfel_areas_pred) /\n"
     ]
    },
    {
     "name": "stdout",
     "output_type": "stream",
     "text": [
      "sub-1076353.nii 0.0 inf nan\n",
      "(181, 184, 184)\n",
      "sub-1078463.nii 0.938873640986362 2.0 0.38853992571467344\n",
      "(181, 184, 184)\n",
      "sub-1078624.nii 0.9092471270540221 3.3166247903554 0.7648960605713108\n",
      "(181, 184, 184)\n",
      "sub-1079452.nii 0.0 inf nan\n",
      "            dice       hauss        MASD\n",
      "count  14.000000   14.000000   12.000000\n",
      "mean    0.508389         inf   21.374076\n",
      "std     0.381257         NaN   35.422190\n",
      "min     0.000000    2.000000    0.388540\n",
      "25%     0.046298    7.140418    1.761082\n",
      "50%     0.620442   68.890171    8.063902\n",
      "75%     0.815518  133.698347   14.642244\n",
      "max     0.938874         inf  113.840265\n",
      "0.5083894889075391 0.3812565971434677\n",
      "inf nan\n"
     ]
    }
   ],
   "source": [
    "basenames = []\n",
    "results = []\n",
    "for p in patients: \n",
    "    basenames.append(p.stem.split('.nii')[0])\n",
    "    npy_path = Path(root, \"predictions/{}\".format(p.stem.split('.nii')[0]))\n",
    "    nifty = str(p)\n",
    "\n",
    "    nft = nb.load(nifty)\n",
    "\n",
    "    patient  = list(sorted(npy_path.rglob('*.npy')))\n",
    "\n",
    "    # Predictions\n",
    "    a = np.array([np.load(p)[0] for p in patient])\n",
    "    print(a.shape)\n",
    "    b = nb.Nifti1Image(np.swapaxes(a, 0,1), affine = nft.affine, header = nft.header)\n",
    "    save_to  = Path(pred_nifty, '{}.nii.gz'.format(p.stem.split('.nii')[0]))\n",
    "    nb.save(b , str(save_to))\n",
    "    \n",
    "    # Groundtruth:\n",
    "    gt_basenames = [Path(*(b.parts[:6] + (\"gt_npy\",) + b.parts[8:])) for b in patient]\n",
    "    c = np.array([np.load(p) for p in gt_basenames])\n",
    " \n",
    "    d = nb.Nifti1Image(np.swapaxes(c, 0,1), affine = nft.affine, header = nft.header)\n",
    "    save_to  = Path(gt_packed_nifty, '{}.nii.gz'.format(p.stem.split('.nii')[0]))\n",
    "    nb.save(d, str(save_to))\n",
    "    \n",
    "    #images:\n",
    "    \n",
    "    in_basenames = [Path(*(b.parts[:6] + (\"input_npy\",) + b.parts[8:])) for b in patient]\n",
    "    e = np.array([np.load(p) for p in in_basenames])\n",
    " \n",
    "    f = nb.Nifti1Image(np.swapaxes(e, 0,1), affine = nft.affine, header = nft.header)\n",
    "    save_to  = Path(in_packed_nifty, '{}.nii.gz'.format(p.stem.split('.nii')[0]))\n",
    "    nb.save(f, str(save_to))\n",
    "    \n",
    "    \n",
    "    sf = metrics.compute_surface_distances(a.astype(bool),\n",
    "                                           c.astype(bool), [1,1,1])\n",
    "    \n",
    "    Dice_3D = metrics.compute_dice_coefficient(a.astype(bool), c.astype(bool))\n",
    "    Hauss_3d = metrics.compute_robust_hausdorff(sf, 95)\n",
    "    MASD_3D = metrics.compute_average_surface_distance(sf)\n",
    "    \n",
    "    metric = {'patient':p.stem.split('.nii')[0], 'dice':Dice_3D, \"hauss\": Hauss_3d, \"MASD\": np.mean(MASD_3D)  }\n",
    "    \n",
    "    results.append(metric)\n",
    "    \n",
    "    print(p.stem, Dice_3D, Hauss_3d, np.mean(MASD_3D))\n",
    "\n",
    "\n",
    "df_Result = pd.DataFrame(data=results)\n",
    "df_Result.to_csv(Path(root, 'metrics.csv'))\n",
    "\n",
    "print(df_Result.describe())\n",
    "\n",
    "print(df_Result['dice'].mean(), df_Result['dice'].std())\n",
    "print(df_Result['hauss'].mean(), df_Result['hauss'].std())\n",
    "    \n",
    "    \n",
    "    \n",
    "    \n",
    "    \n",
    "    \n"
   ]
  },
  {
   "cell_type": "code",
   "execution_count": 40,
   "id": "8469cb8a",
   "metadata": {},
   "outputs": [
    {
     "name": "stdout",
     "output_type": "stream",
     "text": [
      "[0.]\n"
     ]
    }
   ],
   "source": [
    "path = Path( \"/Users/rosana.eljurdi/Datasets/Lymphoma-defaced-brain-mni/derivatives/manual_segm/sub-1079452/ses-M000/anat/sub-1079452_ses-M000_dseg.nii.gz\")\n",
    "npy_file = nb.load(path)\n",
    "\n",
    "print(np.unique(npy_file.get_fdata()))\n",
    "\n",
    "\n",
    "    \n",
    "\n",
    "\n",
    "\n"
   ]
  },
  {
   "cell_type": "code",
   "execution_count": 38,
   "id": "4647bfdb",
   "metadata": {},
   "outputs": [
    {
     "data": {
      "text/plain": [
       "<nibabel.nifti1.Nifti1Header at 0x7f8a88cbda20>"
      ]
     },
     "execution_count": 38,
     "metadata": {},
     "output_type": "execute_result"
    }
   ],
   "source": [
    "\n"
   ]
  },
  {
   "cell_type": "code",
   "execution_count": 44,
   "id": "869068d6",
   "metadata": {},
   "outputs": [],
   "source": [
    "\n"
   ]
  },
  {
   "cell_type": "code",
   "execution_count": null,
   "id": "930a7538",
   "metadata": {},
   "outputs": [],
   "source": []
  }
 ],
 "metadata": {
  "kernelspec": {
   "display_name": "Python 3 (ipykernel)",
   "language": "python",
   "name": "python3"
  },
  "language_info": {
   "codemirror_mode": {
    "name": "ipython",
    "version": 3
   },
   "file_extension": ".py",
   "mimetype": "text/x-python",
   "name": "python",
   "nbconvert_exporter": "python",
   "pygments_lexer": "ipython3",
   "version": "3.10.8"
  }
 },
 "nbformat": 4,
 "nbformat_minor": 5
}
