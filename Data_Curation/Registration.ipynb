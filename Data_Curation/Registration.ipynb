{
 "cells": [
  {
   "cell_type": "code",
   "execution_count": 1,
   "id": "5f2c8fc9",
   "metadata": {
    "ExecuteTime": {
     "end_time": "2023-05-05T21:05:48.658781Z",
     "start_time": "2023-05-05T21:05:48.457448Z"
    }
   },
   "outputs": [
    {
     "name": "stdout",
     "output_type": "stream",
     "text": [
      "Intel MKL WARNING: Support of Intel(R) Streaming SIMD Extensions 4.2 (Intel(R) SSE4.2) enabled only processors has been deprecated. Intel oneAPI Math Kernel Library 2025.0 will require Intel(R) Advanced Vector Extensions (Intel(R) AVX) instructions.\n",
      "Intel MKL WARNING: Support of Intel(R) Streaming SIMD Extensions 4.2 (Intel(R) SSE4.2) enabled only processors has been deprecated. Intel oneAPI Math Kernel Library 2025.0 will require Intel(R) Advanced Vector Extensions (Intel(R) AVX) instructions.\n"
     ]
    }
   ],
   "source": [
    "import pydra\n",
    "from pydra.tasks import fsl\n",
    "from pathlib import Path\n",
    "from ipyniivue import Niivue\n",
    "import shutil\n",
    "import pydra\n",
    "import os\n",
    "import nest_asyncio\n",
    "import shutil\n",
    "nest_asyncio.apply()\n",
    "deface_state = False\n",
    "from pathlib import Path\n",
    "import os\n",
    "\n",
    "import shutil\n",
    "import nibabel as nib\n",
    "import numpy as np"
   ]
  },
  {
   "cell_type": "code",
   "execution_count": 7,
   "id": "b5db506b",
   "metadata": {},
   "outputs": [
    {
     "data": {
      "text/plain": [
       "[PosixPath('/Users/rosana.eljurdi/Datasets/err/Lymphoma_oriented2/sub-1075635/ses-M000/anat/sub-1075635_ses-M000_T1w.nii.gz')]"
      ]
     },
     "execution_count": 7,
     "metadata": {},
     "output_type": "execute_result"
    }
   ],
   "source": [
    "patientdir = Path(\"/Users/rosana.eljurdi/Datasets/err/Lymphoma_oriented2\")\n",
    "labeldir = Path(patientdir, \"manual_segm\")\n",
    "\n",
    "\n",
    "label_paths = list(sorted(labeldir.rglob('*.nii.gz')))\n",
    "image_paths = list(sorted(set(patientdir.rglob('*.nii.gz')) - set(label_paths)))\n",
    "\n",
    "image_paths\n"
   ]
  },
  {
   "cell_type": "code",
   "execution_count": null,
   "id": "544ad04a",
   "metadata": {},
   "outputs": [],
   "source": []
  },
  {
   "cell_type": "code",
   "execution_count": 8,
   "id": "ba006d54",
   "metadata": {},
   "outputs": [],
   "source": [
    "def deface_and_resample_to_template(**kwargs) -> pydra.Workflow:\n",
    "    from pydra.tasks import fsl\n",
    "    from pydra.tasks.fsl import fslmaths\n",
    "\n",
    "    workflow = pydra.Workflow(\n",
    "        input_spec=[\n",
    "            \"input_image\",\n",
    "            \"template_image\",\n",
    "            \"template_mask\",\n",
    "            \"segm_image\"\n",
    "        ],\n",
    "        **kwargs,\n",
    "    )\n",
    "\n",
    "    workflow.add(\n",
    "        fsl.FSLReorient2Std(\n",
    "            name=\"fslreorient2std\",\n",
    "            input_image=workflow.lzin.input_image,\n",
    "        )\n",
    "    )\n",
    "\n",
    "    reference_image = (\n",
    "        workflow.lzin.template_image\n",
    "    )\n",
    "\n",
    "    workflow.add(\n",
    "        fsl.FLIRT(\n",
    "            name=\"flirt\",\n",
    "            input_image=workflow.fslreorient2std.lzout.output_image,\n",
    "            reference_image=workflow.lzin.template_image,\n",
    "            cost_function=\"mutualinfo\",\n",
    "        )\n",
    "    )\n",
    "\n",
    "    workflow.add(\n",
    "        fslmaths.Mul(\n",
    "            name=\"apply_mask\",\n",
    "            input_image=workflow.flirt.lzout.output_image,\n",
    "            other_image=workflow.lzin.template_mask,\n",
    "        )\n",
    "    )\n",
    "    \n",
    "    workflow.add(\n",
    "        fsl.FSLReorient2Std(\n",
    "            name=\"fslreorient2stdsegm\",\n",
    "            input_image=workflow.lzin.segm_image,\n",
    "        )\n",
    "    )\n",
    "    \n",
    "    workflow.add(\n",
    "        fsl.ApplyXFM(\n",
    "            name=\"apply_xfm\",\n",
    "            input_image=workflow.fslreorient2stdsegm.lzout.output_image,\n",
    "            reference_image=reference_image,\n",
    "            input_matrix=workflow.flirt.lzout.output_matrix,\n",
    "            interpolation=\"nearestneighbour\",\n",
    "        )\n",
    "    )\n",
    "    \n",
    "\n",
    "\n",
    "    workflow.set_output({\n",
    "        \"output_image\": workflow.apply_mask.lzout.output_image,\n",
    "        \"registered_GT\": workflow.apply_xfm.lzout.output_image,\n",
    "        \"output_matric\": workflow.flirt.lzout.output_matrix\n",
    "    })\n",
    "\n",
    "    return workflow\n"
   ]
  },
  {
   "cell_type": "code",
   "execution_count": null,
   "id": "1657806e",
   "metadata": {},
   "outputs": [],
   "source": [
    "\n"
   ]
  },
  {
   "cell_type": "code",
   "execution_count": 9,
   "id": "48d144ac",
   "metadata": {},
   "outputs": [
    {
     "name": "stdout",
     "output_type": "stream",
     "text": [
      "/Users/rosana.eljurdi/Datasets/err/Lymphoma-defaced-brain-mni/sub-1075635/ses-M000/anat\n",
      "/Users/rosana.eljurdi/Datasets/err/Lymphoma-defaced-brain-mni/manual_segm/sub-1075635/ses-M000/anat\n"
     ]
    }
   ],
   "source": [
    "for image_path in image_paths:\n",
    "    new_path = Path(str(image_path.parent).replace('Lymphoma_oriented2', 'Lymphoma-defaced-brain-mni'))\n",
    "    new_path.mkdir(parents=True, exist_ok=True)\n",
    "    print(new_path)\n",
    "    \n",
    "    \n",
    "for label_path in label_paths:\n",
    "    new_path = Path(str(label_path.parent).replace('Lymphoma_oriented2', 'Lymphoma-defaced-brain-mni'))\n",
    "    new_path.mkdir(parents=True, exist_ok=True)\n",
    "    \n",
    "    print(new_path)"
   ]
  },
  {
   "cell_type": "code",
   "execution_count": 11,
   "id": "81d5d3bb",
   "metadata": {},
   "outputs": [
    {
     "data": {
      "text/plain": [
       "[PosixPath('/Users/rosana.eljurdi/Datasets/err/Lymphoma_oriented2/sub-1075635/ses-M000/anat/sub-1075635_ses-M000_T1w.nii.gz')]"
      ]
     },
     "execution_count": 11,
     "metadata": {},
     "output_type": "execute_result"
    }
   ],
   "source": [
    "image_paths"
   ]
  },
  {
   "cell_type": "code",
   "execution_count": 12,
   "id": "0c40e7ad",
   "metadata": {},
   "outputs": [
    {
     "name": "stdout",
     "output_type": "stream",
     "text": [
      "(0, (PosixPath('/Users/rosana.eljurdi/Datasets/err/Lymphoma_oriented2/sub-1075635/ses-M000/anat/sub-1075635_ses-M000_T1w.nii.gz'), PosixPath('/Users/rosana.eljurdi/Datasets/err/Lymphoma_oriented2/manual_segm/sub-1075635/ses-M000/anat/sub-1075635_ses-M000_dseg.nii.gz')))\n",
      "(0, (PosixPath('/Users/rosana.eljurdi/Datasets/err/Lymphoma-defaced-brain-mni/sub-1075635/ses-M000/anat/sub-1075635_ses-M000_T1w.nii.gz'), PosixPath('/Users/rosana.eljurdi/Datasets/err/Lymphoma-defaced-brain-mni/manual_segm/sub-1075635/ses-M000/anat/sub-1075635_ses-M000_dseg.nii.gz')))\n",
      "Output(output_image=PosixPath('/private/var/folders/vl/8gp_6lm16ksg3bnh7__sjzwc00102x/T/tmp1y7kv46b/Workflow_47de54392e0c660b72f259f807db39420b0f54c1d0c74c493578bae22ac9a5cf/sub-1075635_ses-M000_T1w_r2std_flirt_fslmaths.nii.gz'), registered_GT=PosixPath('/private/var/folders/vl/8gp_6lm16ksg3bnh7__sjzwc00102x/T/tmp1y7kv46b/Workflow_47de54392e0c660b72f259f807db39420b0f54c1d0c74c493578bae22ac9a5cf/sub-1075635_ses-M000_dseg_r2std_axfm.nii.gz'), output_matric=PosixPath('/private/var/folders/vl/8gp_6lm16ksg3bnh7__sjzwc00102x/T/tmp1y7kv46b/Workflow_47de54392e0c660b72f259f807db39420b0f54c1d0c74c493578bae22ac9a5cf/sub-1075635_ses-M000_T1w_r2std_flirt.mat'))\n",
      "(0, (PosixPath('/Users/rosana.eljurdi/Datasets/err/Lymphoma_oriented2/sub-1075635/ses-M000/anat/sub-1075635_ses-M000_T1w.nii.gz'), PosixPath('/Users/rosana.eljurdi/Datasets/err/Lymphoma_oriented2/manual_segm/sub-1075635/ses-M000/anat/sub-1075635_ses-M000_dseg.nii.gz')))\n"
     ]
    }
   ],
   "source": [
    "# defacing \n",
    "\n",
    "\n",
    "\n",
    "for patient_path in enumerate(zip(image_paths, label_paths)):\n",
    "    print(patient_path)\n",
    "\n",
    "    Task = deface_and_resample_to_template(input_image=patient_path[1][0], name='deface', \n",
    "              template_image='/Users/rosana.eljurdi/Datasets/defacing-templates/tpl-MNI152Lin_res-01_T1w.nii.gz', \n",
    "              template_mask = '/Users/rosana.eljurdi/Datasets/defacing-templates/tpl-MNI152Lin_res-01_desc-brain_mask.nii.gz',\n",
    "              segm_image = patient_path[1][1]  ,\n",
    "             )\n",
    "\n",
    "    result = Task()\n",
    "    \n",
    "    \n",
    "    #shutil.copy(str(result.output.output_image), str(patient_path[1][0]).replace(\"Lymphoma_oriented2\", \"Lymphoma-defaced-brain-mni\"))\n",
    "    #shutil.copy(str(result.output.registered_GT), str(patient_path[1][1]).replace(\"Lymphoma_oriented2\", \"Lymphoma-defaced-brain-mni\"))\n",
    "    print(str(patient_path).replace(\"Lymphoma_oriented2\", \"Lymphoma-defaced-brain-mni\"))\n",
    "    print(result.output)\n",
    "    print(patient_path)"
   ]
  },
  {
   "cell_type": "code",
   "execution_count": 10,
   "id": "9fdf5ddf",
   "metadata": {
    "scrolled": false
   },
   "outputs": [
    {
     "name": "stdout",
     "output_type": "stream",
     "text": [
      "Output(output_image=PosixPath('/private/var/folders/vl/8gp_6lm16ksg3bnh7__sjzwc00102x/T/tmp1t55u3zc/Workflow_6cec02d9ef5eeea30dc1b84e40f7b45d61b45cbbb87bb9a6dfdb89451aaa853e/sub-1071135_ses-M000_T1w_r2std_flirt_fslmaths.nii.gz'), registered_GT=PosixPath('/private/var/folders/vl/8gp_6lm16ksg3bnh7__sjzwc00102x/T/tmp1t55u3zc/Workflow_6cec02d9ef5eeea30dc1b84e40f7b45d61b45cbbb87bb9a6dfdb89451aaa853e/sub-1071135_ses-M000_dseg_r2std_axfm.nii.gz'), output_matric=PosixPath('/private/var/folders/vl/8gp_6lm16ksg3bnh7__sjzwc00102x/T/tmp1t55u3zc/Workflow_6cec02d9ef5eeea30dc1b84e40f7b45d61b45cbbb87bb9a6dfdb89451aaa853e/sub-1071135_ses-M000_T1w_r2std_flirt.mat'))\n",
      "/Users/rosana.eljurdi/Datasets/err/Lymphoma_oriented2/sub-1071135/ses-M000/anat/sub-1071135_ses-M000_T1w.nii.gz\n"
     ]
    }
   ],
   "source": [
    "patient_path = \"/Users/rosana.eljurdi/Datasets/err/Lymphoma_oriented2/sub-1071135/ses-M000/anat/sub-1071135_ses-M000_T1w.nii.gz\"\n",
    "\n",
    "segm_path = \"/Users/rosana.eljurdi/Datasets/err/Lymphoma_oriented2/manual_segm/sub-1071135/ses-M000/anat/sub-1071135_ses-M000_dseg.nii.gz\"\n",
    "\n",
    "Task = deface_and_resample_to_template(input_image=patient_path, name='deface', \n",
    "          template_image='/Users/rosana.eljurdi/Datasets/defacing-templates/tpl-MNI152Lin_res-01_T1w.nii.gz', \n",
    "          template_mask = '/Users/rosana.eljurdi/Datasets/defacing-templates/tpl-MNI152Lin_res-01_desc-brain_mask.nii.gz',\n",
    "          segm_image = segm_path  ,\n",
    "         )\n",
    "\n",
    "result = Task()\n",
    "\n",
    "\n",
    "#shutil.copy(str(result.output.output_image), str(patient_path[1][0]).replace(\"Lymphoma\", \"Lymphoma-defaced-brain-mni\"))\n",
    "#shutil.copy(str(result.output.registered_GT), str(patient_path[1][1]).replace(\"Lymphoma\", \"Lymphoma-defaced-brain-mni\"))\n",
    "#print(str(patient_path).replace(\"Lymphoma\", \"Lymphoma-defaced-brain-mni\"))\n",
    "print(result.output)\n",
    "print(patient_path)\n",
    "    "
   ]
  },
  {
   "cell_type": "code",
   "execution_count": null,
   "id": "c5e2a6a7",
   "metadata": {
    "scrolled": true
   },
   "outputs": [],
   "source": [
    "\n",
    "import nibabel as nb\n",
    "\n",
    "patientdir = Path(\"/Users/rosana.eljurdi/Datasets/Lymphoma-defaced-brain-mni\")\n",
    "labeldir = Path(patientdir, \"derivatives/manual_segm\")\n",
    "\n",
    "\n",
    "label_paths = list(sorted(labeldir.rglob('*.nii.gz')))\n",
    "image_paths = list(sorted(set(patientdir.rglob('*.nii.gz')) - set(label_paths)))\n",
    "\n",
    "\n",
    "print(len(label_paths))\n",
    "\n",
    "\n",
    "for label in label_paths:\n",
    "    nft = nb.load(label).get_fdata()\n",
    "    print(label.stem, nft.sum(), np.unique(nft) )\n",
    "\n",
    "\n"
   ]
  },
  {
   "cell_type": "code",
   "execution_count": null,
   "id": "adc8939c",
   "metadata": {},
   "outputs": [],
   "source": [
    "\n",
    "import nibabel as nb\n",
    "\n",
    "patientdir = Path(\"/Users/rosana.eljurdi/Datasets/Lymphoma\")\n",
    "labeldir = Path(patientdir, \"derivatives/manual_segm\")\n",
    "\n",
    "\n",
    "label_paths = list(sorted(labeldir.rglob('*.nii.gz')))\n",
    "image_paths = list(sorted(set(patientdir.rglob('*.nii.gz')) - set(label_paths)))\n",
    "\n",
    "\n",
    "print(len(label_paths))\n",
    "\n",
    "\n",
    "for label in label_paths:\n",
    "    nft = nb.load(label).get_fdata()\n",
    "    print(label.stem, nft.sum(), np.unique(nft) )\n"
   ]
  },
  {
   "cell_type": "code",
   "execution_count": null,
   "id": "3fd0497d",
   "metadata": {},
   "outputs": [],
   "source": [
    "\n",
    "\n",
    "   \n",
    "     \n",
    "    \n",
    "\n",
    "    \n"
   ]
  },
  {
   "cell_type": "code",
   "execution_count": null,
   "id": "92508554",
   "metadata": {
    "scrolled": false
   },
   "outputs": [],
   "source": [
    "\n",
    "# Sanity check: \n",
    "\n",
    "for image_path in enumerate(zip(image_paths, label_paths)):\n",
    "        img = nib.load(image_path[1][0]).get_fdata()\n",
    "        gt = nib.load(image_path[1][1]).get_fdata()\n",
    "        print(os.path.basename(image_path[1][0]), img.shape,gt.shape )\n",
    "        assert (img.shape == gt.shape)\n",
    "   "
   ]
  },
  {
   "cell_type": "code",
   "execution_count": null,
   "id": "7f2a5742",
   "metadata": {},
   "outputs": [],
   "source": [
    "\n",
    "\n",
    "\n"
   ]
  },
  {
   "cell_type": "code",
   "execution_count": null,
   "id": "c99df881",
   "metadata": {},
   "outputs": [],
   "source": []
  },
  {
   "cell_type": "code",
   "execution_count": null,
   "id": "4652b18f",
   "metadata": {},
   "outputs": [],
   "source": [
    "#Getting the resolution\n",
    "\n",
    "patientdir = Path(\"/Users/rosana.eljurdi/Datasets/Lymphoma\")\n",
    "labeldir = Path(patientdir, \"derivatives/manual_segm\")\n",
    "\n",
    "\n",
    "label_paths = list(sorted(labeldir.rglob('*.nii.gz')))\n",
    "image_paths = list(sorted(set(patientdir.rglob('*.nii.gz')) - set(label_paths)))\n",
    "\n",
    "ppixdim_info = []\n",
    "for patient_path in image_paths:\n",
    "\n",
    "    task = fsl.FSLInfo(input_image=patient_path)\n",
    "    result = task()\n",
    "\n",
    "    ppixdim_info.append({'subject': patient_path.stem,\n",
    "                         'ndim1':result.output.pixdim1,\n",
    "                         'ndim2': result.output.pixdim2,\n",
    "                         'ndim3': result.output.pixdim3 })\n",
    "\n",
    "\n",
    "df = pd.DataFrame(data=ppixdim_info)\n",
    "df.to_csv(os.path.join(patientdir,'resolution.csv'))"
   ]
  },
  {
   "cell_type": "code",
   "execution_count": null,
   "id": "6238151e",
   "metadata": {},
   "outputs": [],
   "source": [
    "\n",
    "\n",
    "\n",
    "\n"
   ]
  },
  {
   "cell_type": "code",
   "execution_count": null,
   "id": "bd64a00a",
   "metadata": {},
   "outputs": [],
   "source": []
  },
  {
   "cell_type": "code",
   "execution_count": null,
   "id": "de90fc74",
   "metadata": {},
   "outputs": [],
   "source": [
    "df_AgeSex"
   ]
  },
  {
   "cell_type": "code",
   "execution_count": null,
   "id": "79aefeec",
   "metadata": {},
   "outputs": [],
   "source": [
    "\n"
   ]
  },
  {
   "cell_type": "code",
   "execution_count": null,
   "id": "34977e96",
   "metadata": {},
   "outputs": [],
   "source": [
    "Meta_data"
   ]
  },
  {
   "cell_type": "code",
   "execution_count": null,
   "id": "2ff0465c",
   "metadata": {},
   "outputs": [],
   "source": [
    "\n",
    "\n",
    "\n"
   ]
  },
  {
   "cell_type": "code",
   "execution_count": null,
   "id": "2a75623b",
   "metadata": {},
   "outputs": [],
   "source": [
    "\n",
    "Meta_data"
   ]
  },
  {
   "cell_type": "code",
   "execution_count": null,
   "id": "3aa660fe",
   "metadata": {},
   "outputs": [],
   "source": [
    "\n"
   ]
  },
  {
   "cell_type": "code",
   "execution_count": null,
   "id": "9b049e2a",
   "metadata": {},
   "outputs": [],
   "source": [
    "\n",
    "\n",
    "\n",
    "\n"
   ]
  },
  {
   "cell_type": "code",
   "execution_count": null,
   "id": "df0bcb35",
   "metadata": {},
   "outputs": [],
   "source": [
    "# getting the partitions\n"
   ]
  },
  {
   "cell_type": "code",
   "execution_count": null,
   "id": "4fb48560",
   "metadata": {},
   "outputs": [],
   "source": []
  },
  {
   "cell_type": "code",
   "execution_count": null,
   "id": "c744f4e6",
   "metadata": {},
   "outputs": [],
   "source": []
  },
  {
   "cell_type": "code",
   "execution_count": null,
   "id": "a0d88d1c",
   "metadata": {},
   "outputs": [],
   "source": []
  },
  {
   "cell_type": "code",
   "execution_count": null,
   "id": "b44b984c",
   "metadata": {},
   "outputs": [],
   "source": [
    "Meta_data.to_csv(\"/Users/rosana.eljurdi/Datasets/Lymphoma-defaced-brain-mni/metadata.csv\")\n"
   ]
  },
  {
   "cell_type": "code",
   "execution_count": null,
   "id": "77306ac5",
   "metadata": {},
   "outputs": [],
   "source": [
    "\n",
    "\n"
   ]
  }
 ],
 "metadata": {
  "kernelspec": {
   "display_name": "Python 3 (ipykernel)",
   "language": "python",
   "name": "python3"
  },
  "language_info": {
   "codemirror_mode": {
    "name": "ipython",
    "version": 3
   },
   "file_extension": ".py",
   "mimetype": "text/x-python",
   "name": "python",
   "nbconvert_exporter": "python",
   "pygments_lexer": "ipython3",
   "version": "3.10.0"
  }
 },
 "nbformat": 4,
 "nbformat_minor": 5
}
