{
 "cells": [
  {
   "cell_type": "code",
   "execution_count": 1,
   "id": "993ad034",
   "metadata": {},
   "outputs": [
    {
     "name": "stdout",
     "output_type": "stream",
     "text": [
      "Intel MKL WARNING: Support of Intel(R) Streaming SIMD Extensions 4.2 (Intel(R) SSE4.2) enabled only processors has been deprecated. Intel oneAPI Math Kernel Library 2025.0 will require Intel(R) Advanced Vector Extensions (Intel(R) AVX) instructions.\n",
      "Intel MKL WARNING: Support of Intel(R) Streaming SIMD Extensions 4.2 (Intel(R) SSE4.2) enabled only processors has been deprecated. Intel oneAPI Math Kernel Library 2025.0 will require Intel(R) Advanced Vector Extensions (Intel(R) AVX) instructions.\n"
     ]
    }
   ],
   "source": [
    "\n",
    "import pydra\n",
    "from pydra.tasks import fsl\n",
    "from pathlib import Path\n",
    "import pandas as pd"
   ]
  },
  {
   "cell_type": "code",
   "execution_count": null,
   "id": "f817b50f",
   "metadata": {},
   "outputs": [],
   "source": [
    "# getting Resolution\n",
    "\n",
    "\n",
    "\n",
    "patientdir = Path(\"/Users/rosana.eljurdi/Datasets/Lymphoma\")\n",
    "labeldir = Path(patientdir, \"derivatives/manual_segm\")\n",
    "\n",
    "\n",
    "label_paths = list(sorted(labeldir.rglob('*.nii.gz')))\n",
    "image_paths = list(sorted(set(patientdir.rglob('*.nii.gz')) - set(label_paths)))\n",
    "\n",
    "ppixdim_info = []\n",
    "for patient_path in image_paths:\n",
    "    \n",
    "    task = fsl.FSLInfo(input_image=patient_path)\n",
    "    result = task()\n",
    "   \n",
    "    ppixdim_info.append({'subject': patient_path.stem, \n",
    "                         'ndim1':result.output.pixdim1, \n",
    "                         'ndim2': result.output.pixdim2,\n",
    "                         'ndim3': result.output.pixdim3 })\n",
    "    \n",
    "    \n",
    "df = pd.DataFrame(data=ppixdim_info)\n",
    "df.to_csv(os.path.join(patientdir,'resolution.csv'))"
   ]
  },
  {
   "cell_type": "code",
   "execution_count": null,
   "id": "527650ae",
   "metadata": {},
   "outputs": [],
   "source": [
    "#sanity check 1: dropping discarded patients\n",
    "df_2 = pd.read_csv(\"/Users/rosana.eljurdi/Datasets/Lymphoma-defaced-brain-mni/participants_.tsv\", delimiter = '\\t')\n",
    "\n",
    "\n",
    "difff = set(df_2['participant_id'])-set(df['subject'].str.split('_ses-M000').str[0])\n",
    "\n",
    "df_2 = df_2.set_index('participant_id')\n",
    "for value in difff:\n",
    "    df_2.drop(value, inplace=True)\n",
    "df_2.to_csv(\"/Users/rosana.eljurdi/Datasets/Lymphoma-defaced-brain-mni/participants_.tsv\")"
   ]
  },
  {
   "cell_type": "code",
   "execution_count": null,
   "id": "490022fb",
   "metadata": {},
   "outputs": [],
   "source": [
    "# Sanity Check 2 : Fixing Resolution\n",
    "\n",
    "df_Res = pd.read_csv(\"/Users/rosana.eljurdi/Datasets/Lymphoma/resolution.csv\")\n",
    "df_Res['subject'] = df_Res['subject'].str.split('_ses-M000').str[0]\n",
    "df_Res = df_Res.set_index('subject').drop('Unnamed: 0', axis = 1)\n",
    "\n",
    "df_Res"
   ]
  },
  {
   "cell_type": "code",
   "execution_count": null,
   "id": "373c117b",
   "metadata": {},
   "outputs": [],
   "source": [
    "\n",
    "df_2 = pd.read_csv(\"/Users/rosana.eljurdi/Datasets/Lymphoma-defaced-brain-mni/participants_.tsv\", delimiter = ',')\n",
    "\n",
    "df_2 = df_2.set_index('participant_id')\n",
    "\n",
    "difff = set(df_2.index)-set(df_Res.index)\n",
    "\n",
    "\n",
    "for value in difff:\n",
    "    df_2.drop(value, inplace=True)\n",
    "#df_2.to_csv(\"/Users/rosana.eljurdi/Datasets/Lymphoma-defaced-brain-mni/participants_.tsv\")"
   ]
  },
  {
   "cell_type": "code",
   "execution_count": null,
   "id": "d9fc726f",
   "metadata": {},
   "outputs": [],
   "source": [
    "# age sex info \n",
    "\n",
    "df_AgeSex = pd.read_csv(\"/Users/rosana.eljurdi/Datasets/Lymphoma/description/age_sex_info.csv\")\n",
    "\n",
    "df_AgeSex['subject'] = df_AgeSex['subject'].apply(lambda x:'sub-{}'.format(x))\n",
    "\n",
    "\n",
    "\n",
    "df_AgeSex = df_AgeSex.set_index('subject').drop('Unnamed: 0', axis = 1)\n",
    "\n",
    "df_AgeSex\n",
    "df_Res\n",
    "\n",
    "difff = set(df_AgeSex.index)-set(df_Res.index)\n",
    "\n",
    "difff\n",
    "\n",
    "\n",
    "for value in difff:\n",
    "    df_AgeSex.drop(value, inplace=True)\n",
    "    \n",
    "df_AgeSex.to_csv(\"/Users/rosana.eljurdi/Datasets/Lymphoma-defaced-brain-mni/age_sex_info.csv\")\n",
    "\n",
    "Meta_data = pd.concat([df_2, df_AgeSex], axis=1)\n",
    "\n",
    "Meta_data['age'] = Meta_data['age'].str.split('Y').str[0].dropna().astype(int)\n",
    "\n"
   ]
  },
  {
   "cell_type": "code",
   "execution_count": null,
   "id": "311dc738",
   "metadata": {},
   "outputs": [],
   "source": [
    "Meta_data.groupby('partition')['partition'].value_counts(normalize=False)"
   ]
  },
  {
   "cell_type": "code",
   "execution_count": null,
   "id": "3df8b512",
   "metadata": {},
   "outputs": [],
   "source": [
    "\n",
    "# age distribution\n",
    "age_summary = Meta_data.groupby('partition')['age'].mean().to_dict()\n",
    "\n",
    "age_summary['total'] = Meta_data['age'].mean()\n",
    "\n",
    "age_summary"
   ]
  },
  {
   "cell_type": "code",
   "execution_count": null,
   "id": "e3bbbb02",
   "metadata": {},
   "outputs": [],
   "source": [
    "# gender distribution\n",
    "a = Meta_data.groupby(['partition'])['gender'].value_counts(normalize=False)\n",
    "\n",
    "a"
   ]
  },
  {
   "cell_type": "code",
   "execution_count": 29,
   "id": "76c03038",
   "metadata": {},
   "outputs": [],
   "source": [
    "# magnetic field strength\n",
    "\n",
    "\n",
    "metadata = pd.read_csv(\"/Users/rosana.eljurdi/Datasets/Lymphoma-defaced-brain-mni/metadata.csv\")\n",
    "MFS_df = pd.read_csv(\"/Users/rosana.eljurdi/Datasets/Lymphoma/description/Magnetic_field_strength.csv\")\n",
    "\n",
    "#Meta_data = pd.concat([metadata, MFS_df], axis=1)\n",
    "\n",
    "metadata.columns = ['subject', 'artefacts', 'lymphome_type','isotropic', 'description', 'color', 'age', \n",
    "                   'gender', 'acquisition-date\t', 'partition',  'age_list', 'sex_list']\n",
    "\n",
    "metadata.set_index(\"subject\")\n",
    "\n",
    "MFS_df.columns = ['to_drop', 'subject','magnetic-field-strength','manufacturer','hospitals' ]\n",
    "\n",
    "MFS_df.drop('to_drop', axis = 1).set_index(\"subject\")\n",
    "\n",
    "\n",
    "metadata = pd.concat([metadata, MFS_df], axis=1)\n",
    "metadata.to_csv('/Users/rosana.eljurdi/Datasets/Lymphoma-defaced-brain-mni/metadata_withMFS.csv')\n"
   ]
  },
  {
   "cell_type": "code",
   "execution_count": 33,
   "id": "d1877f67",
   "metadata": {},
   "outputs": [
    {
     "data": {
      "text/plain": [
       "partition  magnetic-field-strength\n",
       "D1         1.5                        40\n",
       "           3.0                        33\n",
       "           1.0                         6\n",
       "D2         3.0                        10\n",
       "           1.5                         3\n",
       "D3         1.5                        10\n",
       "           3.0                         7\n",
       "           1.0                         1\n",
       "D4         3.0                         7\n",
       "           1.5                         1\n",
       "Name: magnetic-field-strength, dtype: int64"
      ]
     },
     "execution_count": 33,
     "metadata": {},
     "output_type": "execute_result"
    }
   ],
   "source": [
    "Meta_data.groupby('partition')['magnetic-field-strength'].value_counts()\n"
   ]
  },
  {
   "cell_type": "code",
   "execution_count": 34,
   "id": "7a91e23d",
   "metadata": {},
   "outputs": [
    {
     "data": {
      "text/plain": [
       "partition  manufacturer\n",
       "D1         GE              65\n",
       "           Philips         10\n",
       "           Siemens          4\n",
       "D2         GE              12\n",
       "           Siemens          1\n",
       "D3         GE              13\n",
       "           Siemens          3\n",
       "           Philips          2\n",
       "D4         GE               8\n",
       "Name: manufacturer, dtype: int64"
      ]
     },
     "execution_count": 34,
     "metadata": {},
     "output_type": "execute_result"
    }
   ],
   "source": [
    "Meta_data.groupby('partition')['manufacturer'].value_counts()"
   ]
  },
  {
   "cell_type": "code",
   "execution_count": null,
   "id": "29a5a0fe",
   "metadata": {},
   "outputs": [],
   "source": []
  }
 ],
 "metadata": {
  "kernelspec": {
   "display_name": "Python 3 (ipykernel)",
   "language": "python",
   "name": "python3"
  },
  "language_info": {
   "codemirror_mode": {
    "name": "ipython",
    "version": 3
   },
   "file_extension": ".py",
   "mimetype": "text/x-python",
   "name": "python",
   "nbconvert_exporter": "python",
   "pygments_lexer": "ipython3",
   "version": "3.10.0"
  }
 },
 "nbformat": 4,
 "nbformat_minor": 5
}
